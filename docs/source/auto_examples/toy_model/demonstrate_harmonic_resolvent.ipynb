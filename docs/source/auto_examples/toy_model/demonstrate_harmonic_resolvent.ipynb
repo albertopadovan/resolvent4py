{
  "cells": [
    {
      "cell_type": "markdown",
      "metadata": {},
      "source": [
        "\n# Harmonic Resolvent Demonstration\n\nThis example demonstrates the use of ``resolvent4py`` to perform the\nharmonic resolvent analysis on the toy model in section 3.1 of\n:cite:`Padovan2020jfm`.\nIn particular, we demonstrate the following:\n\n- Assembling the harmonic-balanced linear operator $T$ from file using the\n  function :func:`~resolvent4py.utils.io.read_harmonic_balanced_matrix`.\n\n- Using the class\n  :class:`~resolvent4py.linear_operators.projection.ProjectionLinearOperator`\n  to define the projection operators\n\n  .. math::\n\n        P_d = I - w w^*,\\quad P_r = I - v v^*,\n\n  where $w$ and $v$ are unit-norm vectors.\n  (See section 2.1 in :cite:`Padovan2020jfm` for a more thorough explanation\n  of these projectors.)\n\n- Using the class\n  :class:`~resolvent4py.linear_operators.product.ProductLinearOperator`\n  to define the harmonic resolvent $H_1 = P_r T^{-1} P_d$.\n  We also define $H_2 = P T^{-1} P$, where\n\n  .. math::\n\n        P = I - \\frac{v w^*}{w^* v}\n\n  is the projector defined in :cite:`padovan2022prf`.\n  (This projector is, in general, more appropriate because its range is an\n  invariant subspace of $T$.)\n\n- Using :func:`~resolvent4py.linalg.randomized_svd.randomized_svd`\n  to compute the\n  singular value decomposition of $H_1$ and $H_2$.\n  These agree with each other, except that $\\sigma_1(H_2) \\to \\infty$\n  due to the fact that $T$ is almost exactly singular (hence the use\n  of $P_r$ and $P_d$ for a meaningful definition of the harmonic\n  resolvent operator).\n\n- Using :func:`~resolvent4py.linalg.eigendecomposition.eig` to compute the\n  eigendecomposition of $-PTP$. The eigenvalues of this matrix are the\n  Floquet exponents associated with the underlying time-periodic linear system\n  (see :cite:`Wereley91`).\n"
      ]
    },
    {
      "cell_type": "code",
      "execution_count": null,
      "metadata": {
        "collapsed": false
      },
      "outputs": [],
      "source": [
        "import os\n\nimport matplotlib.pyplot as plt\nimport numpy as np\nimport resolvent4py as res4py\nfrom petsc4py import PETSc\nfrom slepc4py import SLEPc\n\nplt.rcParams.update(\n    {\n        \"font.family\": \"serif\",\n        \"font.sans-serif\": [\"Computer Modern\"],\n        \"font.size\": 18,\n        \"text.usetex\": True,\n    }\n)\n\ncomm = PETSc.COMM_WORLD\n\nsave_path = \"data/\"\nbflow_freqs = np.load(save_path + \"bflow_freqs.npy\")\nnfb = len(bflow_freqs) - 1\nfnames_lst = [\n    (\n        save_path + \"rows_%02d.dat\" % j,\n        save_path + \"cols_%02d.dat\" % j,\n        save_path + \"vals_%02d.dat\" % j,\n    )\n    for j in range(nfb + 1)\n]\n\nnfp = nfb + 3\nperts_freqs = np.arange(-nfp, nfp + 1) * bflow_freqs[1]\nnblocks = 2 * nfp + 1\n\n# ------------------------------------------------------------------------------\n# -------- Read data from file and assemble harmonic resolvent generator -------\n# ------------------------------------------------------------------------------\nN = 3 * len(perts_freqs)\nNl = res4py.compute_local_size(N)\nn = 3\nnl = res4py.compute_local_size(n)\nA = res4py.read_harmonic_balanced_matrix(\n    comm,\n    fnames_lst,\n    True,\n    ((nl, n), (nl, n)),\n    ((Nl, N), (Nl, N)),\n)\nT = res4py.assemble_harmonic_resolvent_generator(comm, A, perts_freqs)\nT.scale(-1.0)\n# Perturb the generator to avoid numerical singularities\nId = res4py.create_AIJ_identity(comm, T.getSizes())\nId.scale(1e-7)\nT.axpy(1.0, Id)\nId.destroy()\nksp = res4py.create_mumps_solver(comm, T)\nres4py.check_lu_factorization(comm, T, ksp)\n\nTop = res4py.linear_operators.MatrixLinearOperator(comm, T, ksp, nblocks)\n\n# ------------------------------------------------------------------------------\n# -------- Read base-flow time-derivative and define projection operators ------\n# -------- to remove the phase-shift direction ---------------------------------\n# ------------------------------------------------------------------------------\nfnames_lst = [(save_path + \"dQ_%02d.dat\" % j) for j in range(len(bflow_freqs))]\ndQ = res4py.read_harmonic_balanced_vector(\n    comm, fnames_lst, True, (nl, n), (Nl, N)\n)\ndQ.scale(1 / dQ.norm())\nw = Top.solve_hermitian_transpose(dQ)\nw.scale(1 / w.norm())\n\nPhi = SLEPc.BV().create(comm)\nPhi.setSizes(dQ.getSizes(), 1)\nPhi.setType(\"mat\")\nPsi = Phi.copy()\nPhi.insertVec(0, dQ)\nPsi.insertVec(0, w)\n\nPd = res4py.linear_operators.ProjectionLinearOperator(\n    comm, Psi, Psi, True, nblocks\n)\nPr = res4py.linear_operators.ProjectionLinearOperator(\n    comm, Phi, Phi, True, nblocks\n)\n\nlops = [Pr, Top, Pd]\nlops_actions = [Pr.apply, Top.solve, Pd.apply]\nLinop = res4py.linear_operators.ProductLinearOperator(\n    comm, lops, lops_actions, nblocks\n)\n\n\n_, S, _ = res4py.linalg.randomized_svd(Linop, Linop.apply_mat, 30, 3, 10)\nS = np.diag(S)\n_, S2, _ = res4py.linalg.randomized_svd(Top, Top.solve_mat, 30, 3, 11)\nS2 = np.diag(S2)\n\nres_path = \"results/\"\nif comm.getRank() == 0:\n    os.makedirs(res_path) if not os.path.exists(res_path) else None\n\nif comm.getRank() == 0:\n    fig, ax = plt.subplots()\n    ax.plot(np.arange(1, len(S) + 1), S.real, \"ko\", label=r\"$P_r T^{-1} P_d$\")\n    ax.set_xlabel(r\"Index $j$ for $P_r T^{-1} P_d$\")\n    ax.set_ylabel(r\"$\\sigma_j$\")\n    ax2 = ax.twiny()\n    ax2.plot(\n        np.arange(2, len(S2) + 1), S2[1:].real, \"rx\", label=r\"$P T^{-1} P$\"\n    )\n    lines1, labels1 = ax.get_legend_handles_labels()\n    lines2, labels2 = ax2.get_legend_handles_labels()\n    ax.legend(lines1 + lines2, labels1 + labels2, loc=\"upper right\")\n    ax.set_xticks(np.arange(1, len(S) + 1))\n    ax2.set_xticks(np.arange(2, len(S2) + 1))\n    ax2.set_xlabel(r\"Index $j$ for $P T^{-1} P$\")\n    plt.tight_layout()\n    plt.savefig(res_path + \"singular_values.png\", dpi=100)\n\n\nP = res4py.linear_operators.ProjectionLinearOperator(\n    comm, Phi, Psi, True, nblocks\n)\nlops = [P, Top, P]\nlops_actions = [P.apply, Top.solve, P.apply]\nLinop = res4py.linear_operators.ProductLinearOperator(\n    comm, lops, lops_actions, nblocks\n)\n\nD, _ = res4py.linalg.eig(Linop, Linop.apply, N - 3, 30, lambda x: -1 / x)\nD = np.diag(D)\n\nif comm.getRank() == 0:\n    omega = bflow_freqs[1]\n    idces = np.argwhere((D.imag > -omega / 2) & (D.imag <= omega / 2)).reshape(\n        -1\n    )\n\n    plt.figure()\n    plt.plot(D.real, D.imag, \"ko\")\n    # plt.plot(D[idces].real, D[idces].imag, 'go')\n    # plt.plot(0, 0, \"rx\")\n    ax = plt.gca()\n    ax.axhline(y=omega / 2, color=\"r\", alpha=0.3)\n    ax.axhline(y=-omega / 2, color=\"r\", alpha=0.3)\n    ax.set_xlabel(r\"$\\mathrm{Real}(\\lambda)$\")\n    ax.set_ylabel(r\"$\\mathrm{Imag}(\\lambda)$\")\n    plt.tight_layout()\n    plt.savefig(res_path + \"floquet_exponents.png\", dpi=100)"
      ]
    }
  ],
  "metadata": {
    "kernelspec": {
      "display_name": "Python 3",
      "language": "python",
      "name": "python3"
    },
    "language_info": {
      "codemirror_mode": {
        "name": "ipython",
        "version": 3
      },
      "file_extension": ".py",
      "mimetype": "text/x-python",
      "name": "python",
      "nbconvert_exporter": "python",
      "pygments_lexer": "ipython3",
      "version": "3.11.6"
    }
  },
  "nbformat": 4,
  "nbformat_minor": 0
}