{
  "cells": [
    {
      "cell_type": "markdown",
      "metadata": {},
      "source": [
        "\n# RSVD-dt Demonstration\n\nDescription here.\n"
      ]
    },
    {
      "cell_type": "code",
      "execution_count": null,
      "metadata": {
        "collapsed": false
      },
      "outputs": [],
      "source": [
        "import os\n\nimport matplotlib.pyplot as plt\nimport numpy as np\nimport resolvent4py as res4py\nimport scipy as sp\nfrom mpi4py import MPI\nfrom petsc4py import PETSc\n\nimport pathlib\nimport cgl\n\n\ndef save_bv_list(bv_list, prefix, save_path):\n    save_dir = pathlib.Path(save_path)\n    save_dir.mkdir(parents=True, exist_ok=True)\n    for i, bv in enumerate(bv_list):\n        nv = bv.getSizes()[1]\n        for j in range(nv):\n            vec = bv.getColumn(j)\n            fname = save_dir / f\"{prefix}_freq{i:02d}_mode{j:02d}.petsc\"\n            viewer = PETSc.Viewer().createBinary(\n                str(fname), \"w\", comm=vec.comm\n            )\n            vec.view(viewer)\n            viewer.destroy()\n            bv.restoreColumn(j, vec)\n\n\ndef ensure_structural_diagonal(mat, value_if_empty=0.0):\n    r0, _ = mat.getOwnershipRange()\n    diag = mat.getDiagonal()\n    holes = diag.getArray() == 0\n    diag.destroy()\n\n    mat.setOption(PETSc.Mat.Option.NEW_NONZERO_LOCATION_ERR, False)\n    for local_i, hole in enumerate(holes):\n        if hole:\n            global_i = r0 + local_i\n            mat.setValue(\n                global_i,\n                global_i,\n                value_if_empty,\n                addv=PETSc.InsertMode.INSERT_VALUES,\n            )\n\n    mat.assemblyBegin(PETSc.Mat.AssemblyType.FINAL)\n    mat.assemblyEnd(PETSc.Mat.AssemblyType.FINAL)\n\n\ndef shift_matrix_by_matrix(A, G, alpha):\n    A.axpy(-alpha, G)\n    A.assemblyBegin(PETSc.Mat.AssemblyType.FINAL)\n    A.assemblyEnd(PETSc.Mat.AssemblyType.FINAL)\n\n\nplt.rcParams.update(\n    {\n        \"font.family\": \"serif\",\n        \"font.sans-serif\": [\"Computer Modern\"],\n        \"font.size\": 18,\n        \"text.usetex\": False,\n    }\n)\n\ncomm = MPI.COMM_WORLD\nrank = comm.Get_rank()\nsave_path = \"results/\"\n\n# Read the A matrix from file\nres4py.petscprint(comm, \"Reading matrix from file...\")\nload_path = \"data/\"\nN = 48884\nNl = res4py.compute_local_size(N)\nsizes = ((Nl, N), (Nl, N))\nnames = [\n    load_path + \"rows.dat\",\n    load_path + \"cols.dat\",\n    load_path + \"vals.dat\",\n]\nA = res4py.read_coo_matrix(comm, names, sizes)\n\ncomm.barrier()\n\ns = 0.0206\n\nksp = res4py.create_gmres_bjacobi_solver(comm, A, nblocks=comm.Get_size())\nres4py.petscprint(comm, \"A ksp\")\nL = res4py.linear_operators.MatrixLinearOperator(comm, A, ksp)\nres4py.petscprint(comm, \"A operator\")\n\n# Compute the svd\nres4py.petscprint(comm, \"Running randomized SVD...\")\nn_periods = 20\nn_timesteps = 20000\nn_rand = 5\nn_loops = 3\nn_svals = 1\n\nU, S, V = res4py.linalg.randomized_time_stepping_svd(\n    L,\n    np.array([-2 * s, -s, 0, s]),\n    n_periods,\n    n_timesteps,\n    n_rand,\n    n_loops,\n    n_svals,\n    ts_method=\"RK4\",\n)\n\nif rank == 0:\n    save_bv_list(U, \"U\", save_path)\n    save_bv_list(V, \"V\", save_path)\n\n# S.assemble()\n\n# if comm.rank == 0:\n#     pathlib.Path(save_path).mkdir(exist_ok=True)\n#     s_fname = os.path.join(save_path, \"S.petsc\")\n#     viewer = PETSc.Viewer().createBinary(s_fname, \"w\", comm=comm)\n#     S.view(viewer)\n#     viewer.destroy()\n\n# S.destroy()\n# for bv in U: bv.destroy()\n# for bv in V: bv.destroy()\n\n# [223073.00213949]\n# [131396.3608767]"
      ]
    }
  ],
  "metadata": {
    "kernelspec": {
      "display_name": "Python 3",
      "language": "python",
      "name": "python3"
    },
    "language_info": {
      "codemirror_mode": {
        "name": "ipython",
        "version": 3
      },
      "file_extension": ".py",
      "mimetype": "text/x-python",
      "name": "python",
      "nbconvert_exporter": "python",
      "pygments_lexer": "ipython3",
      "version": "3.11.6"
    }
  },
  "nbformat": 4,
  "nbformat_minor": 0
}