{
  "cells": [
    {
      "cell_type": "markdown",
      "metadata": {},
      "source": [
        "\n# Resolvent Analysis Demonstration\n\nGiven the linear dynamics $d_t q = Aq$, we perform resolvent analysis\nby computing the singular value decomposition (SVD) of the resolvent operator\n\n\\begin{align}R(i\\omega) = \\left(i\\omega I - A\\right)^{-1}\\end{align}\n\nwith $\\omega = 0.648$ the natural frequency of the linearized CGL\nequation. This script demonstrates the following:\n\n- LU decomposition using :func:`~resolvent4py.utils.ksp.create_mumps_solver`\n- Resolvent analysis in the frequency domain using\n  :func:`~resolvent4py.linalg.randomized_svd.randomized_svd`\n"
      ]
    },
    {
      "cell_type": "code",
      "execution_count": null,
      "metadata": {
        "collapsed": false
      },
      "outputs": [],
      "source": [
        "import os\n\nimport matplotlib.pyplot as plt\nimport numpy as np\nimport resolvent4py as res4py\nimport scipy as sp\nfrom petsc4py import PETSc\n\nimport cgl\n\nplt.rcParams.update(\n    {\n        \"font.family\": \"serif\",\n        \"font.sans-serif\": [\"Computer Modern\"],\n        \"font.size\": 18,\n        \"text.usetex\": True,\n    }\n)\n\ncomm = PETSc.COMM_WORLD\n\n# Read the A matrix from file\nres4py.petscprint(comm, \"Reading matrix from file...\")\nload_path = \"data/\"\nN = 2000\nNl = res4py.compute_local_size(N)\nsizes = ((Nl, N), (Nl, N))\nnames = [\n    load_path + \"rows.dat\",\n    load_path + \"cols.dat\",\n    load_path + \"vals.dat\",\n]\nA = res4py.read_coo_matrix(names, sizes)\n\n# Compute the SVD of the resolvent operator R = inv(1j*omega*I - A) using\n# the randomized SVD algorithm\nres4py.petscprint(comm, \"Computing LU decomposition...\")\ns = -1j * 0.648\nRinv = res4py.create_AIJ_identity(comm, sizes)\nRinv.scale(s)\nRinv.axpy(-1.0, A)\nksp = res4py.create_mumps_solver(Rinv)\nres4py.check_lu_factorization(Rinv, ksp)\nL = res4py.linear_operators.MatrixLinearOperator(Rinv, ksp)\n\n# Compute the svd\nres4py.petscprint(comm, \"Running randomized SVD...\")\nn_rand = 10\nn_loops = 1\nn_svals = 2\nU, S, V = res4py.linalg.randomized_svd(\n    L, L.solve_mat, n_rand, n_loops, n_svals\n)\n# Check convergence\nres4py.linalg.check_randomized_svd_convergence(L.solve, U, S, V)\n\n# Destroy objects\nL.destroy()\nV.destroy()\nU.destroy()\n\nres4py.petscprint(comm, \"Making figures...\")\nl = 30 * 2\nx = np.linspace(-l / 2, l / 2, num=N, endpoint=True)\nnu = 1.0 * (2 + 0.4 * 1j)\ngamma = 1 - 1j\nmu0 = 0.38\nmu2 = -0.01\nsigma = 0.4\nsystem = cgl.CGL(x, nu, gamma, mu0, mu2, sigma)\n\n\nif comm.getRank() == 0:\n    save_path = \"results/\"\n    os.makedirs(save_path) if not os.path.exists(save_path) else None\n\n    Id = sp.sparse.identity(N)\n    R = sp.linalg.inv((s * Id - system.A).todense())\n    _, s, _ = sp.linalg.svd(R)\n    S = np.diag(S)\n\n    plt.figure()\n    plt.plot(S.real, \"ko\", label=\"res4py\")\n    plt.plot(s[: len(S)].real, \"rx\", label=\"exact\")\n    ax = plt.gca()\n    ax.set_xlabel(r\"Index $j$\")\n    ax.set_ylabel(r\"Singular values $\\sigma_j(\\omega)$\")\n    ax.set_title(r\"SVD of $R(\\omega)$\")\n    ax.set_yscale(\"log\")\n    plt.legend()\n    plt.tight_layout()\n    plt.savefig(save_path + \"singular_values.png\")"
      ]
    }
  ],
  "metadata": {
    "kernelspec": {
      "display_name": "Python 3",
      "language": "python",
      "name": "python3"
    },
    "language_info": {
      "codemirror_mode": {
        "name": "ipython",
        "version": 3
      },
      "file_extension": ".py",
      "mimetype": "text/x-python",
      "name": "python",
      "nbconvert_exporter": "python",
      "pygments_lexer": "ipython3",
      "version": "3.9.13"
    }
  },
  "nbformat": 4,
  "nbformat_minor": 0
}