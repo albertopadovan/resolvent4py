{
  "cells": [
    {
      "cell_type": "markdown",
      "metadata": {},
      "source": [
        "\n# Eigendecomposition Demonstration\n\nGiven the linear dynamics $d_t q = Aq$, we compute the eigenvalues of\nthe matrix $A$ closest to the origin using the shift-and-invert technique.\nThis script demonstrates the following:\n\n- LU decomposition using :func:`~resolvent4py.utils.ksp.create_mumps_solver`\n- Eigendecomposition using \n  :func:`~resolvent4py.linalg.eigendecomposition.eig`\n"
      ]
    },
    {
      "cell_type": "code",
      "execution_count": null,
      "metadata": {
        "collapsed": false
      },
      "outputs": [],
      "source": [
        "import os\n\nimport matplotlib.pyplot as plt\nimport numpy as np\nimport resolvent4py as res4py\nfrom petsc4py import PETSc\n\nimport cgl\n\nplt.rcParams.update(\n    {\n        \"font.family\": \"serif\",\n        \"font.sans-serif\": [\"Computer Modern\"],\n        \"font.size\": 18,\n        \"text.usetex\": True,\n    }\n)\n\ncomm = PETSc.COMM_WORLD\n\n# Read the A matrix from file\nres4py.petscprint(comm, \"Reading matrix from file...\")\nload_path = \"data/\"\nN = 2000\nNl = res4py.compute_local_size(N)\nsizes = ((Nl, N), (Nl, N))\nnames = [\n    load_path + \"rows.dat\",\n    load_path + \"cols.dat\",\n    load_path + \"vals.dat\",\n]\nA = res4py.read_coo_matrix(comm, names, sizes)\n\n# Compute the eigendecomposition of L using shift and invert about s.\n# We need to define a matrix M = sI - A, compute its lu decomposition,\n# define a corresponding MatrixLinearOperator L and compute its eigendecomp.\nres4py.petscprint(comm, \"Computing LU decomposition...\")\ns = 0.0\nM = res4py.create_AIJ_identity(comm, sizes)\nM.scale(s)\nM.axpy(-1.0, A)\nksp = res4py.create_mumps_solver(comm, M)\nres4py.check_lu_factorization(comm, M, ksp)\nL = res4py.linear_operators.MatrixLinearOperator(comm, M, ksp)\n\n# Compute the eigendecomp.\nres4py.petscprint(comm, \"Running Arnoldi iteration...\")\nkrylov_dim = 50\nn_evals = 10\nD, V = res4py.linalg.eig(\n    L, L.solve, krylov_dim, n_evals, lambda x: s - 1.0 / x\n)\n\n# Check convergence\nL.destroy()\nL = res4py.linear_operators.MatrixLinearOperator(comm, A)\nres4py.linalg.check_eig_convergence(L.apply, D, V)\n\n# Destroy objects\nL.destroy()\nV.destroy()\n\n# Make some plots\nif comm.getRank() == 0:\n    l = 30 * 2\n    x = np.linspace(-l / 2, l / 2, num=N, endpoint=True)\n    nu = 1.0 * (2 + 0.4 * 1j)\n    gamma = 1 - 1j\n    mu0 = 0.38\n    mu2 = -0.01\n    sigma = 0.4\n    system = cgl.CGL(x, nu, gamma, mu0, mu2, sigma)\n\n    save_path = \"results/\"\n    os.makedirs(save_path) if not os.path.exists(save_path) else None\n    evals = system.compute_exact_eigenvalues(n_evals)\n    D = np.diag(D)\n\n    plt.figure()\n    plt.plot(D.imag, D.real, \"ko\", label=\"res4py\")\n    plt.plot(evals.imag, evals.real, \"rx\", label=\"exact\")\n    ax = plt.gca()\n    ax.set_xlabel(r\"$\\mathrm{Real}(\\lambda_j)$\")\n    ax.set_ylabel(r\"$\\mathrm{Imag}(\\lambda_j)$\")\n    ax.set_title(r\"Eigenvalues $\\lambda$\")\n    ax.axhline(y=0.0, linewidth=1.0, color=\"blue\", alpha=0.3)\n    plt.legend()\n    plt.tight_layout()\n    plt.savefig(save_path + \"eigenvalues.png\")"
      ]
    }
  ],
  "metadata": {
    "kernelspec": {
      "display_name": "Python 3",
      "language": "python",
      "name": "python3"
    },
    "language_info": {
      "codemirror_mode": {
        "name": "ipython",
        "version": 3
      },
      "file_extension": ".py",
      "mimetype": "text/x-python",
      "name": "python",
      "nbconvert_exporter": "python",
      "pygments_lexer": "ipython3",
      "version": "3.11.6"
    }
  },
  "nbformat": 4,
  "nbformat_minor": 0
}