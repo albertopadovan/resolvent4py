{
  "cells": [
    {
      "cell_type": "markdown",
      "metadata": {},
      "source": [
        "\n# Balanced Truncation Demonstration\n\nGiven the linear input-output dynamics\n\n\\begin{align}\\begin{aligned}\n        \\frac{d}{dt}q &= A q + B u \\\\\n        y &= C q\n    \\end{aligned}\\end{align}\n\nwith the input and output matrices $B$ and $C$ defined as in \n:cite:`Ilak2010model`, we perform balanced truncation in the frequency domain\nusing the algorithm presented in :cite:`dergham2011`.\n\n- LU decomposition using :func:`~resolvent4py.utils.ksp.create_mumps_solver`\n- Balanced truncation in the frequency domain using \n  :func:`~resolvent4py.model_reduction.balanced_truncation`\n"
      ]
    },
    {
      "cell_type": "code",
      "execution_count": null,
      "metadata": {
        "collapsed": false
      },
      "outputs": [],
      "source": [
        "from functools import partial\n\nimport matplotlib.pyplot as plt\nimport numpy as np\nimport resolvent4py as res4py\nfrom petsc4py import PETSc\n\nplt.rcParams.update(\n    {\n        \"font.family\": \"serif\",\n        \"font.sans-serif\": [\"Computer Modern\"],\n        \"font.size\": 18,\n        \"text.usetex\": True,\n    }\n)\n\n\ndef L_generator(omega, A):\n    comm = PETSc.COMM_WORLD\n    Rinv = res4py.create_AIJ_identity(comm, A.getSizes())\n    Rinv.scale(1j * omega)\n    Rinv.axpy(-1.0, A)\n    ksp = res4py.create_mumps_solver(comm, Rinv)\n    L = res4py.linear_operators.MatrixLinearOperator(comm, Rinv, ksp)\n    return (L, L.solve_mat, (L.destroy,))\n\n\ncomm = PETSc.COMM_WORLD\n\n# Read the A matrix from file\nres4py.petscprint(comm, \"Reading matrix from file...\")\nload_path = \"data/\"\nN = 2000\nNl = res4py.compute_local_size(N)\nsizes = ((Nl, N), (Nl, N))\nnames = [\n    load_path + \"rows.dat\",\n    load_path + \"cols.dat\",\n    load_path + \"vals.dat\",\n]\nA = res4py.read_coo_matrix(comm, names, sizes)\nB = res4py.read_bv(comm, load_path + \"B.dat\", (A.getSizes()[0], 2))\nC = res4py.read_bv(comm, load_path + \"C.dat\", (A.getSizes()[0], 3))\n\ndomega = 0.648 / 2\nomegas = np.arange(-30, 30, domega)\nweights = domega / (2 * np.pi) * np.ones(len(omegas))\nL_gen = partial(L_generator, A=A)\nL_generators = [L_gen for _ in range(len(omegas))]\n\nres4py.petscprint(comm, \"Computing Gramian factors...\")\nX, Y = res4py.model_reduction.compute_gramian_factors(\n    L_generators, omegas, weights, B, C\n)\n\nres4py.petscprint(comm, \"Computing balanced projection...\")\nPhi, Psi, S = res4py.model_reduction.compute_balanced_projection(X, Y, 10)"
      ]
    }
  ],
  "metadata": {
    "kernelspec": {
      "display_name": "Python 3",
      "language": "python",
      "name": "python3"
    },
    "language_info": {
      "codemirror_mode": {
        "name": "ipython",
        "version": 3
      },
      "file_extension": ".py",
      "mimetype": "text/x-python",
      "name": "python",
      "nbconvert_exporter": "python",
      "pygments_lexer": "ipython3",
      "version": "3.11.6"
    }
  },
  "nbformat": 4,
  "nbformat_minor": 0
}