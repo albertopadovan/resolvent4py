{
  "cells": [
    {
      "cell_type": "markdown",
      "metadata": {},
      "source": [
        "\n# Resolvent Analysis Demonstration via Time Stepping\n\nGiven the linear dynamics $d_t q = Aq$, we perform resolvent analysis\nby computing the singular value decomposition (SVD) of the resolvent operator\n\n\\begin{align}R(i\\omega) = \\left(i\\omega I - A\\right)^{-1}\\end{align}\n\nwith $\\omega = 0.648$ the natural frequency of the linearized CGL\nequation. This script demonstrates the following:\n\n- Resolvent analysis using time-stepping via\n  :func:`~resolvent4py.linalg.resolvent_analysis_time_stepping.resolvent_analysis_rsvd_dt`\n"
      ]
    },
    {
      "cell_type": "code",
      "execution_count": null,
      "metadata": {
        "collapsed": false
      },
      "outputs": [],
      "source": [
        "import os\n\nimport matplotlib.pyplot as plt\nimport numpy as np\nimport resolvent4py as res4py\nimport scipy as sp\nfrom petsc4py import PETSc\n\nimport cgl\n\nplt.rcParams.update(\n    {\n        \"font.family\": \"serif\",\n        \"font.sans-serif\": [\"Computer Modern\"],\n        \"font.size\": 18,\n        \"text.usetex\": True,\n    }\n)\n\ncomm = PETSc.COMM_WORLD\n\n# Read the A matrix from file\nres4py.petscprint(comm, \"Reading matrix from file...\")\nload_path = \"data/\"\nN = 2000\nNl = res4py.compute_local_size(N)\nsizes = ((Nl, N), (Nl, N))\nnames = [\n    load_path + \"rows.dat\",\n    load_path + \"cols.dat\",\n    load_path + \"vals.dat\",\n]\nA = res4py.read_coo_matrix(names, sizes)\n\n# Compute the svd\nres4py.petscprint(comm, \"Running randomized SVD (algebraic)...\")\nomega = 0.648\nn_rand = 2\nn_loops = 1\nn_svals = 2\nRinv = res4py.create_AIJ_identity(comm, sizes)\nRinv.scale(-1j * omega)\nRinv.axpy(-1.0, A)\nksp = res4py.create_mumps_solver(Rinv)\nres4py.check_lu_factorization(Rinv, ksp)\nL = res4py.linear_operators.MatrixLinearOperator(Rinv, ksp)\nUa, Sa, Va = res4py.linalg.randomized_svd(\n    L, L.solve_mat, n_rand, n_loops, n_svals\n)\nSa = np.diag(Sa)\n\nres4py.petscprint(comm, \"Running randomized SVD (time stepping)...\")\nres4py.petscprint(comm, \"This may take several minutes...\")\nn_omegas = 1\nn_periods = 100\ndt = 1e-4\ntol = 1e-3\nverbose = 2\nL = res4py.linear_operators.MatrixLinearOperator(A)\nU, S, V = (\n    res4py.linalg.resolvent_analysis_time_stepping.resolvent_analysis_rsvd_dt(\n        L,\n        dt,\n        omega,\n        n_omegas,\n        n_periods,\n        n_rand,\n        n_loops,\n        n_svals,\n        tol,\n        verbose,\n    )\n)\nSt = np.diag(S[-1])\nUt = U[-1]\nVt = V[-1]\n\nidx = 0\nbvs = [Ua, Ut, Va, Vt]\narrays = []\nfor bv in bvs:\n    vec = bv.getColumn(idx)\n    vecseq = res4py.distributed_to_sequential_vector(vec)\n    bv.restoreColumn(idx, vec)\n    arrays.append(vecseq.getArray().copy())\n    vecseq.destroy()\n\nif comm.getRank() == 0:\n    save_path = \"results/\"\n    os.makedirs(save_path) if not os.path.exists(save_path) else None\n\n    l = 30 * 2\n    x = np.linspace(-l / 2, l / 2, num=N, endpoint=True)\n    nu = 1.0 * (2 + 0.4 * 1j)\n    gamma = 1 - 1j\n    mu0 = 0.38\n    mu2 = -0.01\n    sigma = 0.4\n    system = cgl.CGL(x, nu, gamma, mu0, mu2, sigma)\n\n    plt.figure()\n    plt.plot(Sa.real, \"ko\", label=\"rsvd\")\n    plt.plot(St.real, \"rx\", label=\"rsvd-dt\")\n    ax = plt.gca()\n    ax.set_xlabel(r\"Index $j$\")\n    ax.set_ylabel(r\"Singular values $\\sigma_j(\\omega)$\")\n    ax.set_title(r\"SVD of $R(\\omega)$\")\n    ax.set_yscale(\"log\")\n    plt.legend()\n    plt.tight_layout()\n    plt.savefig(save_path + \"singular_values_compare.png\")\n\n    plt.figure()\n    plt.plot(x, np.abs(arrays[0]), label=\"rsvd\")\n    plt.plot(x, np.abs(arrays[1]), \"--\", label=\"rsvd-dt\")\n    ax = plt.gca()\n    ax.set_xlabel(r\"$x$\")\n    ax.set_ylabel(r\"Abs. value of output mode\")\n    plt.legend()\n    plt.tight_layout()\n    plt.savefig(save_path + \"output_mode_compare.png\")\n\n    plt.figure()\n    plt.plot(x, np.abs(arrays[2]), label=\"rsvd\")\n    plt.plot(x, np.abs(arrays[3]), \"--\", label=\"rsvd-dt\")\n    ax = plt.gca()\n    ax.set_xlabel(r\"$x$\")\n    ax.set_ylabel(r\"Abs. value of input mode\")\n    plt.legend()\n    plt.tight_layout()\n    plt.savefig(save_path + \"input_mode_compare.png\")"
      ]
    }
  ],
  "metadata": {
    "kernelspec": {
      "display_name": "Python 3",
      "language": "python",
      "name": "python3"
    },
    "language_info": {
      "codemirror_mode": {
        "name": "ipython",
        "version": 3
      },
      "file_extension": ".py",
      "mimetype": "text/x-python",
      "name": "python",
      "nbconvert_exporter": "python",
      "pygments_lexer": "ipython3",
      "version": "3.9.13"
    }
  },
  "nbformat": 4,
  "nbformat_minor": 0
}